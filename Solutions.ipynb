{
 "cells": [
  {
   "cell_type": "code",
   "execution_count": 1,
   "id": "114e07c4-529b-4d5e-874d-c7e198357d3c",
   "metadata": {},
   "outputs": [],
   "source": [
    "import random\n",
    "import ciw\n",
    "import math\n",
    "import pandas as pd"
   ]
  },
  {
   "cell_type": "markdown",
   "id": "3a9b2f7c-67ef-418d-af59-dfc27c72a3f6",
   "metadata": {},
   "source": [
    "# Example A: Fridge Magnets"
   ]
  },
  {
   "cell_type": "code",
   "execution_count": 2,
   "id": "3ebbfeae-a822-49c1-bf10-427123f3454e",
   "metadata": {},
   "outputs": [],
   "source": [
    "def run_experiment(fridge_magnets):\n",
    "    first_two = random.sample(fridge_magnets, 2)\n",
    "    one_is_vowel = any(letter in \"AEIOU\" for letter in first_two)\n",
    "    return one_is_vowel"
   ]
  },
  {
   "cell_type": "code",
   "execution_count": 3,
   "id": "4defd7cb-a2c4-4345-b4c2-d9668a52b5df",
   "metadata": {},
   "outputs": [],
   "source": [
    "fridge_magnets = [\"H\", \"E\", \"L\", \"L\", \"O\", \"W\", \"O\", \"R\", \"L\", \"D\"]"
   ]
  },
  {
   "cell_type": "code",
   "execution_count": 4,
   "id": "a97808ad-4521-45d2-97fa-536a26641460",
   "metadata": {},
   "outputs": [
    {
     "data": {
      "text/plain": [
       "True"
      ]
     },
     "execution_count": 4,
     "metadata": {},
     "output_type": "execute_result"
    }
   ],
   "source": [
    "random.seed(5)\n",
    "run_experiment(fridge_magnets)"
   ]
  },
  {
   "cell_type": "code",
   "execution_count": 5,
   "id": "7ea7bece-b897-41c6-bb1e-514b19013230",
   "metadata": {},
   "outputs": [
    {
     "data": {
      "text/plain": [
       "False"
      ]
     },
     "execution_count": 5,
     "metadata": {},
     "output_type": "execute_result"
    }
   ],
   "source": [
    "run_experiment(fridge_magnets)"
   ]
  },
  {
   "cell_type": "code",
   "execution_count": 6,
   "id": "e695acd4-3057-4832-8678-3efdaca9e894",
   "metadata": {},
   "outputs": [],
   "source": [
    "def run_experiments(num_experiments, fridge_magnets):\n",
    "    successes = []\n",
    "    random.seed(0)\n",
    "    for trial in range(num_experiments):\n",
    "        outcome = run_experiment(fridge_magnets)\n",
    "        successes.append(outcome)\n",
    "    prob_of_success = sum(successes) / num_experiments\n",
    "    return prob_of_success"
   ]
  },
  {
   "cell_type": "code",
   "execution_count": 7,
   "id": "b79e0ae5-4f72-4319-94b0-282c4d340014",
   "metadata": {},
   "outputs": [
    {
     "data": {
      "text/plain": [
       "0.5"
      ]
     },
     "execution_count": 7,
     "metadata": {},
     "output_type": "execute_result"
    }
   ],
   "source": [
    "run_experiments(num_experiments=10, fridge_magnets=fridge_magnets)"
   ]
  },
  {
   "cell_type": "code",
   "execution_count": 8,
   "id": "45ac3722-eae6-44cb-8d37-6a23841acda1",
   "metadata": {},
   "outputs": [
    {
     "data": {
      "text/plain": [
       "0.5326"
      ]
     },
     "execution_count": 8,
     "metadata": {},
     "output_type": "execute_result"
    }
   ],
   "source": [
    "run_experiments(num_experiments=50000, fridge_magnets=fridge_magnets)"
   ]
  },
  {
   "cell_type": "markdown",
   "id": "d52fb8ab-e04d-444e-bdc0-2e52a13923ee",
   "metadata": {},
   "source": [
    "# Task 1: Weight of Shopping Bag"
   ]
  },
  {
   "cell_type": "code",
   "execution_count": 9,
   "id": "d74eef7b-0527-4185-b53f-2bd8d678c38d",
   "metadata": {},
   "outputs": [],
   "source": [
    "def choose_type_of_fruit():\n",
    "    if random.random() < 0.4:\n",
    "        return \"Apple\"\n",
    "    return \"Melon\""
   ]
  },
  {
   "cell_type": "code",
   "execution_count": 10,
   "id": "03b26bb8-17ce-400c-a13b-442020f1d85e",
   "metadata": {},
   "outputs": [],
   "source": [
    "def fill_shopping_bag():\n",
    "    fruit = choose_type_of_fruit()\n",
    "    number = random.choice([1, 2, 3, 4, 5, 6])\n",
    "    bag_weight = 0\n",
    "    if fruit == \"Apple\":\n",
    "        for apple in range(number):\n",
    "            bag_weight += random.uniform(70, 100)\n",
    "    if fruit == \"Melon\":\n",
    "        for melon in range(number):\n",
    "            bag_weight += random.normalvariate(1200, 250)\n",
    "    return bag_weight"
   ]
  },
  {
   "cell_type": "code",
   "execution_count": 11,
   "id": "108c2273-9a7a-433e-b1e0-8fb39c2930f1",
   "metadata": {},
   "outputs": [
    {
     "data": {
      "text/plain": [
       "4071.3242946541422"
      ]
     },
     "execution_count": 11,
     "metadata": {},
     "output_type": "execute_result"
    }
   ],
   "source": [
    "random.seed(0)\n",
    "fill_shopping_bag()"
   ]
  },
  {
   "cell_type": "code",
   "execution_count": 12,
   "id": "77230112-afea-4573-9371-1a149bce12bb",
   "metadata": {},
   "outputs": [],
   "source": [
    "def run_experiments(num_experiments):\n",
    "    outcomes = []\n",
    "    random.seed(0)\n",
    "    for experiment in range(num_experiments):\n",
    "        outcomes.append(fill_shopping_bag())\n",
    "    return outcomes"
   ]
  },
  {
   "cell_type": "markdown",
   "id": "085cf89b-7af5-44b8-93c2-cbc82606839a",
   "metadata": {},
   "source": [
    "1.\tWhat is the expected weight of the shopping bag?"
   ]
  },
  {
   "cell_type": "code",
   "execution_count": 13,
   "id": "6162c855-cb7f-43d8-af10-a4842ac211ae",
   "metadata": {},
   "outputs": [
    {
     "data": {
      "text/plain": [
       "2625.1377470632874"
      ]
     },
     "execution_count": 13,
     "metadata": {},
     "output_type": "execute_result"
    }
   ],
   "source": [
    "bags = run_experiments(num_experiments=50000)\n",
    "expected_bag_weight = sum(bags) / len(bags)\n",
    "expected_bag_weight"
   ]
  },
  {
   "cell_type": "markdown",
   "id": "be91153a-0a73-4744-b90a-d0a7eb3ea906",
   "metadata": {},
   "source": [
    "2.\tExplore the effect of the number of repetitions on the expected weight."
   ]
  },
  {
   "cell_type": "code",
   "execution_count": 14,
   "id": "244adb7e-d009-4371-b1ed-bd68108ed310",
   "metadata": {},
   "outputs": [
    {
     "data": {
      "image/png": "[encoded data removed]",
      "text/plain": [
       "<Figure size 640x480 with 1 Axes>"
      ]
     },
     "metadata": {},
     "output_type": "display_data"
    }
   ],
   "source": [
    "n_experiments = range(1, 2001)\n",
    "expected_weights = [sum(run_experiments(num_experiments=n)) / n for n in n_experiments]\n",
    "\n",
    "import matplotlib.pyplot as plt\n",
    "plt.plot(n_experiments, expected_weights);"
   ]
  },
  {
   "cell_type": "markdown",
   "id": "e2ded9b8-45b2-422a-9a5c-e2a9427c3f88",
   "metadata": {},
   "source": [
    "3.\tWhat is the probability of the bag exceeding 6kg?"
   ]
  },
  {
   "cell_type": "code",
   "execution_count": 15,
   "id": "5d968b9b-ab8a-45a1-bb6f-c1dda831cdc6",
   "metadata": {},
   "outputs": [
    {
     "data": {
      "text/plain": [
       "0.14796"
      ]
     },
     "execution_count": 15,
     "metadata": {},
     "output_type": "execute_result"
    }
   ],
   "source": [
    "prob_over_6kg = sum(b > 6000 for b in bags) / len(bags)\n",
    "prob_over_6kg"
   ]
  },
  {
   "cell_type": "markdown",
   "id": "fe1bb9a9-47f4-4290-9b50-da0b5de33618",
   "metadata": {},
   "source": [
    "4.\tWhat does its weight distribution of the bag look like?"
   ]
  },
  {
   "cell_type": "code",
   "execution_count": 16,
   "id": "d1598b70-4ee6-4108-bb0f-94dada1688cf",
   "metadata": {},
   "outputs": [
    {
     "data": {
      "image/png": "[encoded data removed]",
      "text/plain": [
       "<Figure size 640x480 with 1 Axes>"
      ]
     },
     "metadata": {},
     "output_type": "display_data"
    }
   ],
   "source": [
    "plt.hist(bags);"
   ]
  },
  {
   "cell_type": "markdown",
   "id": "3cc3556b-d564-4cfa-b8bc-7ce5f3ef18ae",
   "metadata": {},
   "source": [
    "# Example B: Evaluating an Integral"
   ]
  },
  {
   "cell_type": "markdown",
   "id": "e5861259-c78e-4fb7-9711-d24cca430bdc",
   "metadata": {},
   "source": [
    "$$\n",
    "I = \\int_3^{11} \\left| \\sin\\left(\\frac{x}{10}\\right) \\cos\\left(2x\\right) \\right| \\; dx\n",
    "$$"
   ]
  },
  {
   "cell_type": "code",
   "execution_count": 17,
   "id": "6aac7ca6-5505-4f45-b93c-25d048046b0a",
   "metadata": {},
   "outputs": [],
   "source": [
    "def integrand(x):\n",
    "    return abs(math.sin(x / 10) * math.cos(2 * x))"
   ]
  },
  {
   "cell_type": "code",
   "execution_count": 18,
   "id": "9109cca6-062c-499c-8efe-63de3e701c88",
   "metadata": {},
   "outputs": [],
   "source": [
    "n_points = 100000\n",
    "lower, upper = 3, 11\n",
    "random.seed(0)\n",
    "random_points = [(random.uniform(lower, upper), random.uniform(0, 1)) for point in range(n_points)]"
   ]
  },
  {
   "cell_type": "code",
   "execution_count": 19,
   "id": "c0a7a938-bb91-4dae-90b2-1dfce32c1597",
   "metadata": {},
   "outputs": [],
   "source": [
    "under_curve = [point[1] <= integrand(point[0]) for point in random_points]"
   ]
  },
  {
   "cell_type": "code",
   "execution_count": 20,
   "id": "525c4adc-ca1a-44fd-a837-f6352b8a5103",
   "metadata": {},
   "outputs": [
    {
     "data": {
      "text/plain": [
       "3.21976"
      ]
     },
     "execution_count": 20,
     "metadata": {},
     "output_type": "execute_result"
    }
   ],
   "source": [
    "proportion_under_curve = sum(under_curve) / n_points\n",
    "rectangle_area = (upper - lower)\n",
    "estimated_value_of_integral = rectangle_area * proportion_under_curve\n",
    "estimated_value_of_integral"
   ]
  },
  {
   "cell_type": "markdown",
   "id": "57c79695-3bb0-4707-b883-677255a76363",
   "metadata": {},
   "source": [
    "# Example C: M/M/1 Queue"
   ]
  },
  {
   "cell_type": "code",
   "execution_count": 21,
   "id": "2ef48b5e-a671-47d4-9e97-2e94c0bf222d",
   "metadata": {},
   "outputs": [],
   "source": [
    "N = ciw.create_network(\n",
    "    arrival_distributions=[ciw.dists.Exponential(rate=11)],\n",
    "    service_distributions=[ciw.dists.Exponential(rate=12)],\n",
    "    number_of_servers=[1]\n",
    ")"
   ]
  },
  {
   "cell_type": "code",
   "execution_count": 22,
   "id": "b891d12e-f933-40ee-8930-3619ceeb4efd",
   "metadata": {},
   "outputs": [],
   "source": [
    "expected_waiting_times = []\n",
    "for trial in range(10):\n",
    "    ciw.seed(trial)\n",
    "    Q = ciw.Simulation(N)\n",
    "    Q.simulate_until_max_time(25)\n",
    "    recs = Q.get_all_records()\n",
    "    waiting_times = [r.waiting_time for r in recs if r.arrival_date > 1]\n",
    "    expected_waiting_times.append(sum(waiting_times) / len(waiting_times))"
   ]
  },
  {
   "cell_type": "markdown",
   "id": "81dce33f-7e54-4373-bc63-7c49bb3fc251",
   "metadata": {},
   "source": [
    "1.\tHow long on average to staff spend waiting to play on the arcade machine?"
   ]
  },
  {
   "cell_type": "code",
   "execution_count": 23,
   "id": "4f4b906a-d2a0-4d10-8f17-5f705adfdcc5",
   "metadata": {},
   "outputs": [
    {
     "data": {
      "text/plain": [
       "29.854593255577754"
      ]
     },
     "execution_count": 23,
     "metadata": {},
     "output_type": "execute_result"
    }
   ],
   "source": [
    "(sum(expected_waiting_times) / len(expected_waiting_times)) * 60"
   ]
  },
  {
   "cell_type": "markdown",
   "id": "c5096245-00c0-47e9-936d-e2e4bf97d971",
   "metadata": {},
   "source": [
    "2.\tWhat will be the effect of investing in a second machine?"
   ]
  },
  {
   "cell_type": "code",
   "execution_count": 24,
   "id": "c52802a5-6263-4a37-bc0f-d1e43be0c49f",
   "metadata": {},
   "outputs": [
    {
     "data": {
      "text/plain": [
       "1.6164822273074855"
      ]
     },
     "execution_count": 24,
     "metadata": {},
     "output_type": "execute_result"
    }
   ],
   "source": [
    "N = ciw.create_network(\n",
    "    arrival_distributions=[ciw.dists.Exponential(rate=11)],\n",
    "    service_distributions=[ciw.dists.Exponential(rate=12)],\n",
    "    number_of_servers=[2]\n",
    ")\n",
    "\n",
    "expected_waiting_times = []\n",
    "for trial in range(10):\n",
    "    ciw.seed(trial)\n",
    "    Q = ciw.Simulation(N)\n",
    "    Q.simulate_until_max_time(25)\n",
    "    recs = Q.get_all_records()\n",
    "    waiting_times = [r.waiting_time for r in recs if r.arrival_date > 1]\n",
    "    expected_waiting_times.append(sum(waiting_times) / len(waiting_times))\n",
    "\n",
    "(sum(expected_waiting_times) / len(expected_waiting_times)) * 60"
   ]
  },
  {
   "cell_type": "markdown",
   "id": "ec1a895c-22fb-4489-8e3e-9281d6fc3daf",
   "metadata": {},
   "source": [
    "# Task 2: M/G/c Queue"
   ]
  },
  {
   "cell_type": "code",
   "execution_count": 25,
   "id": "5029e303-dee2-4b79-842a-d5a2f4c75b49",
   "metadata": {},
   "outputs": [],
   "source": [
    "N = ciw.create_network(\n",
    "    arrival_distributions=[ciw.dists.Exponential(rate=1/5)],\n",
    "    service_distributions=[ciw.dists.Uniform(lower=5, upper=17)],\n",
    "    number_of_servers=[3]\n",
    ")"
   ]
  },
  {
   "cell_type": "code",
   "execution_count": 26,
   "id": "68c093f7-c027-469a-b711-3b51489aa90d",
   "metadata": {},
   "outputs": [
    {
     "data": {
      "text/html": [
       "<div>\n",
       "<style scoped>\n",
       "    .dataframe tbody tr th:only-of-type {\n",
       "        vertical-align: middle;\n",
       "    }\n",
       "\n",
       "    .dataframe tbody tr th {\n",
       "        vertical-align: top;\n",
       "    }\n",
       "\n",
       "    .dataframe thead th {\n",
       "        text-align: right;\n",
       "    }\n",
       "</style>\n",
       "<table border=\"1\" class=\"dataframe\">\n",
       "  <thead>\n",
       "    <tr style=\"text-align: right;\">\n",
       "      <th></th>\n",
       "      <th>id_number</th>\n",
       "      <th>customer_class</th>\n",
       "      <th>original_customer_class</th>\n",
       "      <th>node</th>\n",
       "      <th>arrival_date</th>\n",
       "      <th>waiting_time</th>\n",
       "      <th>service_start_date</th>\n",
       "      <th>service_time</th>\n",
       "      <th>service_end_date</th>\n",
       "      <th>time_blocked</th>\n",
       "      <th>exit_date</th>\n",
       "      <th>destination</th>\n",
       "      <th>queue_size_at_arrival</th>\n",
       "      <th>queue_size_at_departure</th>\n",
       "      <th>server_id</th>\n",
       "      <th>record_type</th>\n",
       "    </tr>\n",
       "  </thead>\n",
       "  <tbody>\n",
       "    <tr>\n",
       "      <th>0</th>\n",
       "      <td>1</td>\n",
       "      <td>Customer</td>\n",
       "      <td>Customer</td>\n",
       "      <td>1</td>\n",
       "      <td>0.721455</td>\n",
       "      <td>0.000000</td>\n",
       "      <td>0.721455</td>\n",
       "      <td>15.169205</td>\n",
       "      <td>15.890660</td>\n",
       "      <td>0.0</td>\n",
       "      <td>15.890660</td>\n",
       "      <td>-1</td>\n",
       "      <td>0</td>\n",
       "      <td>2</td>\n",
       "      <td>1</td>\n",
       "      <td>service</td>\n",
       "    </tr>\n",
       "    <tr>\n",
       "      <th>1</th>\n",
       "      <td>2</td>\n",
       "      <td>Customer</td>\n",
       "      <td>Customer</td>\n",
       "      <td>1</td>\n",
       "      <td>7.936300</td>\n",
       "      <td>0.000000</td>\n",
       "      <td>7.936300</td>\n",
       "      <td>8.060828</td>\n",
       "      <td>15.997128</td>\n",
       "      <td>0.0</td>\n",
       "      <td>15.997128</td>\n",
       "      <td>-1</td>\n",
       "      <td>1</td>\n",
       "      <td>1</td>\n",
       "      <td>2</td>\n",
       "      <td>service</td>\n",
       "    </tr>\n",
       "    <tr>\n",
       "      <th>2</th>\n",
       "      <td>3</td>\n",
       "      <td>Customer</td>\n",
       "      <td>Customer</td>\n",
       "      <td>1</td>\n",
       "      <td>11.356594</td>\n",
       "      <td>0.000000</td>\n",
       "      <td>11.356594</td>\n",
       "      <td>10.393893</td>\n",
       "      <td>21.750487</td>\n",
       "      <td>0.0</td>\n",
       "      <td>21.750487</td>\n",
       "      <td>-1</td>\n",
       "      <td>2</td>\n",
       "      <td>2</td>\n",
       "      <td>3</td>\n",
       "      <td>service</td>\n",
       "    </tr>\n",
       "    <tr>\n",
       "      <th>3</th>\n",
       "      <td>5</td>\n",
       "      <td>Customer</td>\n",
       "      <td>Customer</td>\n",
       "      <td>1</td>\n",
       "      <td>17.121318</td>\n",
       "      <td>0.000000</td>\n",
       "      <td>17.121318</td>\n",
       "      <td>5.340170</td>\n",
       "      <td>22.461488</td>\n",
       "      <td>0.0</td>\n",
       "      <td>22.461488</td>\n",
       "      <td>-1</td>\n",
       "      <td>2</td>\n",
       "      <td>1</td>\n",
       "      <td>2</td>\n",
       "      <td>service</td>\n",
       "    </tr>\n",
       "    <tr>\n",
       "      <th>4</th>\n",
       "      <td>4</td>\n",
       "      <td>Customer</td>\n",
       "      <td>Customer</td>\n",
       "      <td>1</td>\n",
       "      <td>16.628513</td>\n",
       "      <td>0.000000</td>\n",
       "      <td>16.628513</td>\n",
       "      <td>14.464680</td>\n",
       "      <td>31.093193</td>\n",
       "      <td>0.0</td>\n",
       "      <td>31.093193</td>\n",
       "      <td>-1</td>\n",
       "      <td>1</td>\n",
       "      <td>1</td>\n",
       "      <td>1</td>\n",
       "      <td>service</td>\n",
       "    </tr>\n",
       "    <tr>\n",
       "      <th>...</th>\n",
       "      <td>...</td>\n",
       "      <td>...</td>\n",
       "      <td>...</td>\n",
       "      <td>...</td>\n",
       "      <td>...</td>\n",
       "      <td>...</td>\n",
       "      <td>...</td>\n",
       "      <td>...</td>\n",
       "      <td>...</td>\n",
       "      <td>...</td>\n",
       "      <td>...</td>\n",
       "      <td>...</td>\n",
       "      <td>...</td>\n",
       "      <td>...</td>\n",
       "      <td>...</td>\n",
       "      <td>...</td>\n",
       "    </tr>\n",
       "    <tr>\n",
       "      <th>1994</th>\n",
       "      <td>1996</td>\n",
       "      <td>Customer</td>\n",
       "      <td>Customer</td>\n",
       "      <td>1</td>\n",
       "      <td>10038.037719</td>\n",
       "      <td>1.015544</td>\n",
       "      <td>10039.053264</td>\n",
       "      <td>8.592407</td>\n",
       "      <td>10047.645671</td>\n",
       "      <td>0.0</td>\n",
       "      <td>10047.645671</td>\n",
       "      <td>-1</td>\n",
       "      <td>3</td>\n",
       "      <td>1</td>\n",
       "      <td>2</td>\n",
       "      <td>service</td>\n",
       "    </tr>\n",
       "    <tr>\n",
       "      <th>1995</th>\n",
       "      <td>1995</td>\n",
       "      <td>Customer</td>\n",
       "      <td>Customer</td>\n",
       "      <td>1</td>\n",
       "      <td>10029.265700</td>\n",
       "      <td>6.402649</td>\n",
       "      <td>10035.668349</td>\n",
       "      <td>16.829711</td>\n",
       "      <td>10052.498060</td>\n",
       "      <td>0.0</td>\n",
       "      <td>10052.498060</td>\n",
       "      <td>-1</td>\n",
       "      <td>3</td>\n",
       "      <td>0</td>\n",
       "      <td>3</td>\n",
       "      <td>service</td>\n",
       "    </tr>\n",
       "    <tr>\n",
       "      <th>1996</th>\n",
       "      <td>1997</td>\n",
       "      <td>Customer</td>\n",
       "      <td>Customer</td>\n",
       "      <td>1</td>\n",
       "      <td>10058.461058</td>\n",
       "      <td>0.000000</td>\n",
       "      <td>10058.461058</td>\n",
       "      <td>6.205299</td>\n",
       "      <td>10064.666357</td>\n",
       "      <td>0.0</td>\n",
       "      <td>10064.666357</td>\n",
       "      <td>-1</td>\n",
       "      <td>0</td>\n",
       "      <td>0</td>\n",
       "      <td>1</td>\n",
       "      <td>service</td>\n",
       "    </tr>\n",
       "    <tr>\n",
       "      <th>1997</th>\n",
       "      <td>1998</td>\n",
       "      <td>Customer</td>\n",
       "      <td>Customer</td>\n",
       "      <td>1</td>\n",
       "      <td>10065.681595</td>\n",
       "      <td>0.000000</td>\n",
       "      <td>10065.681595</td>\n",
       "      <td>10.280532</td>\n",
       "      <td>10075.962127</td>\n",
       "      <td>0.0</td>\n",
       "      <td>10075.962127</td>\n",
       "      <td>-1</td>\n",
       "      <td>0</td>\n",
       "      <td>1</td>\n",
       "      <td>1</td>\n",
       "      <td>service</td>\n",
       "    </tr>\n",
       "    <tr>\n",
       "      <th>1998</th>\n",
       "      <td>1999</td>\n",
       "      <td>Customer</td>\n",
       "      <td>Customer</td>\n",
       "      <td>1</td>\n",
       "      <td>10070.789906</td>\n",
       "      <td>0.000000</td>\n",
       "      <td>10070.789906</td>\n",
       "      <td>6.173398</td>\n",
       "      <td>10076.963304</td>\n",
       "      <td>0.0</td>\n",
       "      <td>10076.963304</td>\n",
       "      <td>-1</td>\n",
       "      <td>1</td>\n",
       "      <td>0</td>\n",
       "      <td>2</td>\n",
       "      <td>service</td>\n",
       "    </tr>\n",
       "  </tbody>\n",
       "</table>\n",
       "<p>1999 rows × 16 columns</p>\n",
       "</div>"
      ],
      "text/plain": [
       "      id_number customer_class original_customer_class  node  arrival_date  \\\n",
       "0             1       Customer                Customer     1      0.721455   \n",
       "1             2       Customer                Customer     1      7.936300   \n",
       "2             3       Customer                Customer     1     11.356594   \n",
       "3             5       Customer                Customer     1     17.121318   \n",
       "4             4       Customer                Customer     1     16.628513   \n",
       "...         ...            ...                     ...   ...           ...   \n",
       "1994       1996       Customer                Customer     1  10038.037719   \n",
       "1995       1995       Customer                Customer     1  10029.265700   \n",
       "1996       1997       Customer                Customer     1  10058.461058   \n",
       "1997       1998       Customer                Customer     1  10065.681595   \n",
       "1998       1999       Customer                Customer     1  10070.789906   \n",
       "\n",
       "      waiting_time  service_start_date  service_time  service_end_date  \\\n",
       "0         0.000000            0.721455     15.169205         15.890660   \n",
       "1         0.000000            7.936300      8.060828         15.997128   \n",
       "2         0.000000           11.356594     10.393893         21.750487   \n",
       "3         0.000000           17.121318      5.340170         22.461488   \n",
       "4         0.000000           16.628513     14.464680         31.093193   \n",
       "...            ...                 ...           ...               ...   \n",
       "1994      1.015544        10039.053264      8.592407      10047.645671   \n",
       "1995      6.402649        10035.668349     16.829711      10052.498060   \n",
       "1996      0.000000        10058.461058      6.205299      10064.666357   \n",
       "1997      0.000000        10065.681595     10.280532      10075.962127   \n",
       "1998      0.000000        10070.789906      6.173398      10076.963304   \n",
       "\n",
       "      time_blocked     exit_date  destination  queue_size_at_arrival  \\\n",
       "0              0.0     15.890660           -1                      0   \n",
       "1              0.0     15.997128           -1                      1   \n",
       "2              0.0     21.750487           -1                      2   \n",
       "3              0.0     22.461488           -1                      2   \n",
       "4              0.0     31.093193           -1                      1   \n",
       "...            ...           ...          ...                    ...   \n",
       "1994           0.0  10047.645671           -1                      3   \n",
       "1995           0.0  10052.498060           -1                      3   \n",
       "1996           0.0  10064.666357           -1                      0   \n",
       "1997           0.0  10075.962127           -1                      0   \n",
       "1998           0.0  10076.963304           -1                      1   \n",
       "\n",
       "      queue_size_at_departure  server_id record_type  \n",
       "0                           2          1     service  \n",
       "1                           1          2     service  \n",
       "2                           2          3     service  \n",
       "3                           1          2     service  \n",
       "4                           1          1     service  \n",
       "...                       ...        ...         ...  \n",
       "1994                        1          2     service  \n",
       "1995                        0          3     service  \n",
       "1996                        0          1     service  \n",
       "1997                        1          1     service  \n",
       "1998                        0          2     service  \n",
       "\n",
       "[1999 rows x 16 columns]"
      ]
     },
     "execution_count": 26,
     "metadata": {},
     "output_type": "execute_result"
    }
   ],
   "source": [
    "ciw.seed(1)\n",
    "Q = ciw.Simulation(N)\n",
    "Q.simulate_until_max_time(60 * 24 * 7)\n",
    "recs = Q.get_all_records()\n",
    "recs_df = pd.DataFrame(recs)\n",
    "recs_df"
   ]
  },
  {
   "cell_type": "markdown",
   "id": "2bdd8b00-0fb1-475e-aca2-618e19409815",
   "metadata": {},
   "source": [
    "1.\tOn average how long do customers wait?"
   ]
  },
  {
   "cell_type": "code",
   "execution_count": 27,
   "id": "19e8d5b1-7386-4827-b267-c6376e7cfbda",
   "metadata": {},
   "outputs": [
    {
     "data": {
      "text/plain": [
       "5.213047002999628"
      ]
     },
     "execution_count": 27,
     "metadata": {},
     "output_type": "execute_result"
    }
   ],
   "source": [
    "recs_df['waiting_time'].mean()"
   ]
  },
  {
   "cell_type": "markdown",
   "id": "00692fff-312a-4300-8b5d-b41ed375d812",
   "metadata": {},
   "source": [
    "2.\tHow many customers wait over 10 minutes?"
   ]
  },
  {
   "cell_type": "code",
   "execution_count": 28,
   "id": "5a17b0dd-4fcd-4670-99b7-1b2933450de7",
   "metadata": {},
   "outputs": [
    {
     "data": {
      "text/plain": [
       "17.158579289644823"
      ]
     },
     "execution_count": 28,
     "metadata": {},
     "output_type": "execute_result"
    }
   ],
   "source": [
    "(recs_df['waiting_time'] > 10).mean() * 100"
   ]
  },
  {
   "cell_type": "markdown",
   "id": "11739259-847e-4849-a831-c9ba6faa20af",
   "metadata": {},
   "source": [
    "3.\tHow many customers wait over 1 minute?"
   ]
  },
  {
   "cell_type": "code",
   "execution_count": 29,
   "id": "94e9accf-fe0a-4480-8b58-805ffeb25ee0",
   "metadata": {},
   "outputs": [
    {
     "data": {
      "text/plain": [
       "50.07503751875938"
      ]
     },
     "execution_count": 29,
     "metadata": {},
     "output_type": "execute_result"
    }
   ],
   "source": [
    "(recs_df['waiting_time'] > 1).mean() * 100"
   ]
  },
  {
   "cell_type": "markdown",
   "id": "a40bed61-ee48-4b20-9f1b-3dde3bc0b188",
   "metadata": {},
   "source": [
    "# Example D: A network of queues"
   ]
  },
  {
   "cell_type": "code",
   "execution_count": 30,
   "id": "d72a8b28-e662-483d-a62a-a705ea18f482",
   "metadata": {},
   "outputs": [],
   "source": [
    "N = ciw.create_network(\n",
    "    arrival_distributions=[ciw.dists.Exponential(rate=1), None],\n",
    "    service_distributions=[ciw.dists.Deterministic(value=2.2), ciw.dists.Uniform(lower=5, upper=28)],\n",
    "    number_of_servers=[3, 18],\n",
    "    routing=[\n",
    "        [0, 1],\n",
    "        [0.05, 0]\n",
    "    ]\n",
    ")"
   ]
  },
  {
   "cell_type": "code",
   "execution_count": 31,
   "id": "6cbca973-182d-42b0-adac-42e7f7958534",
   "metadata": {},
   "outputs": [],
   "source": [
    "average_waits_clinician = []\n",
    "for trial in range(10):\n",
    "    ciw.seed(trial)\n",
    "    Q = ciw.Simulation(N)\n",
    "    Q.simulate_until_max_time(25 * 60)\n",
    "    recs = Q.get_all_records()\n",
    "    recs = [r for r in recs if r.arrival_date > 60]\n",
    "    waiting_times_clinician = [r.waiting_time for r in recs if r.node == 2]\n",
    "    average_wait_clinician = sum(waiting_times_clinician) / len(waiting_times_clinician)\n",
    "    average_waits_clinician.append(average_wait_clinician)"
   ]
  },
  {
   "cell_type": "code",
   "execution_count": 32,
   "id": "f79ef6b7-e80f-4fe1-a2fc-8f63dc823d75",
   "metadata": {},
   "outputs": [
    {
     "data": {
      "text/plain": [
       "10.951320759475593"
      ]
     },
     "execution_count": 32,
     "metadata": {},
     "output_type": "execute_result"
    }
   ],
   "source": [
    "sum(average_waits_clinician) / 10"
   ]
  },
  {
   "cell_type": "code",
   "execution_count": 33,
   "id": "c9f75ddb-bc0a-45d5-8b19-b51bbeb174db",
   "metadata": {},
   "outputs": [
    {
     "data": {
      "text/plain": [
       "3.113905600586772"
      ]
     },
     "execution_count": 33,
     "metadata": {},
     "output_type": "execute_result"
    }
   ],
   "source": [
    "N = ciw.create_network(\n",
    "    arrival_distributions=[ciw.dists.Exponential(rate=1), None],\n",
    "    service_distributions=[ciw.dists.Deterministic(value=2.2), ciw.dists.Uniform(lower=5, upper=28)],\n",
    "    number_of_servers=[3, 19],\n",
    "    routing=[\n",
    "        [0, 1],\n",
    "        [0.05, 0]\n",
    "    ]\n",
    ")\n",
    "\n",
    "average_waits_clinician = []\n",
    "for trial in range(10):\n",
    "    ciw.seed(trial)\n",
    "    Q = ciw.Simulation(N)\n",
    "    Q.simulate_until_max_time(25 * 60)\n",
    "    recs = Q.get_all_records()\n",
    "    recs = [r for r in recs if r.arrival_date > 60]\n",
    "    waiting_times_clinician = [r.waiting_time for r in recs if r.node == 2]\n",
    "    average_wait_clinician = sum(waiting_times_clinician) / len(waiting_times_clinician)\n",
    "    average_waits_clinician.append(average_wait_clinician)\n",
    "\n",
    "sum(average_waits_clinician) / 10"
   ]
  },
  {
   "cell_type": "markdown",
   "id": "6cb23a17-80ef-4904-b43b-5b8df2ec0470",
   "metadata": {},
   "source": [
    "# Task 3: A Café"
   ]
  },
  {
   "cell_type": "code",
   "execution_count": 34,
   "id": "83399a58-a6df-4caf-8378-1e70fc0a443d",
   "metadata": {},
   "outputs": [],
   "source": [
    "N = ciw.create_network(\n",
    "    arrival_distributions=[ciw.dists.Exponential(rate=18/60),\n",
    "                           ciw.dists.Exponential(rate=12/60),\n",
    "                           None],\n",
    "    service_distributions=[ciw.dists.Exponential(rate=1/1),\n",
    "                           ciw.dists.Exponential(rate=1/2.5),\n",
    "                           ciw.dists.Exponential(rate=1/2)],\n",
    "    routing=[[0.0, 0.3, 0.7],\n",
    "             [0.0, 0.0, 1.0],\n",
    "             [0.0, 0.0, 0.0]],\n",
    "    number_of_servers=[1, 2, 2]\n",
    ")"
   ]
  },
  {
   "cell_type": "code",
   "execution_count": 35,
   "id": "0969ae8b-2f86-4daa-b597-8292afc56a22",
   "metadata": {},
   "outputs": [],
   "source": [
    "Q = ciw.Simulation(N)\n",
    "Q.simulate_until_max_time(60)\n",
    "recs = Q.get_all_records()\n",
    "recs_df = pd.DataFrame(recs)"
   ]
  },
  {
   "cell_type": "markdown",
   "id": "a9e2d5f3-9358-4083-a73a-222a816502a1",
   "metadata": {},
   "source": [
    "1.\tHow many customers are served during a typical lunch hour?"
   ]
  },
  {
   "cell_type": "code",
   "execution_count": 36,
   "id": "a6a91e5d-b55b-468d-b3d5-b495f4f0c09c",
   "metadata": {},
   "outputs": [
    {
     "data": {
      "text/plain": [
       "33"
      ]
     },
     "execution_count": 36,
     "metadata": {},
     "output_type": "execute_result"
    }
   ],
   "source": [
    "len(recs_df[recs_df['node'] == 3])"
   ]
  },
  {
   "cell_type": "markdown",
   "id": "ac5b90a4-1fb5-42ad-a849-f771be4e85fc",
   "metadata": {},
   "source": [
    "2.\tHow long are customers expected to wait at each counter?"
   ]
  },
  {
   "cell_type": "code",
   "execution_count": 37,
   "id": "68e28d16-2517-483a-827a-24a0345bd1ea",
   "metadata": {},
   "outputs": [
    {
     "data": {
      "text/plain": [
       "node\n",
       "1    0.175919\n",
       "2    0.398693\n",
       "3    0.454463\n",
       "Name: waiting_time, dtype: float64"
      ]
     },
     "execution_count": 37,
     "metadata": {},
     "output_type": "execute_result"
    }
   ],
   "source": [
    "recs_df.groupby('node')['waiting_time'].mean()"
   ]
  },
  {
   "cell_type": "markdown",
   "id": "349464ea-2b5a-44d3-ba32-7cfc5cdcfc69",
   "metadata": {},
   "source": [
    "3.\tHow long are customers expected to be in the system before leaving with their food?"
   ]
  },
  {
   "cell_type": "code",
   "execution_count": 38,
   "id": "fa9bba4c-3fbb-4bf2-b4de-cf7411731d59",
   "metadata": {},
   "outputs": [
    {
     "data": {
      "text/plain": [
       "4.816236996550473"
      ]
     },
     "execution_count": 38,
     "metadata": {},
     "output_type": "execute_result"
    }
   ],
   "source": [
    "recs_df['time_at_node'] = recs_df['exit_date'] - recs_df['arrival_date']\n",
    "recs_df.groupby('id_number')['time_at_node'].sum().mean()"
   ]
  },
  {
   "cell_type": "markdown",
   "id": "10009d9f-bca3-4498-9eca-aa299fd58c60",
   "metadata": {},
   "source": [
    "4.\tYou are provided with one extra member of staff. Where should that member of staff be stationed (the cold food counter, the hot food counter, or the till) to have the greatest effect on the customers’ overall waiting times?"
   ]
  },
  {
   "cell_type": "code",
   "execution_count": 39,
   "id": "e1893452-04d1-424c-a0ca-60c57efad182",
   "metadata": {},
   "outputs": [],
   "source": [
    "def get_overall_average_wait(c_cold, c_hot, c_till):\n",
    "    N = ciw.create_network(\n",
    "        arrival_distributions=[ciw.dists.Exponential(rate=18/60),\n",
    "                               ciw.dists.Exponential(rate=12/60),\n",
    "                               None],\n",
    "        service_distributions=[ciw.dists.Exponential(rate=1/1),\n",
    "                               ciw.dists.Exponential(rate=1/2.5),\n",
    "                               ciw.dists.Exponential(rate=1/2)],\n",
    "        routing=[[0.0, 0.3, 0.7],\n",
    "                 [0.0, 0.0, 1.0],\n",
    "                 [0.0, 0.0, 0.0]],\n",
    "        number_of_servers=[c_cold, c_hot, c_till]\n",
    "    )\n",
    "    overall_waits = []\n",
    "    for trial in range(10):\n",
    "        Q = ciw.Simulation(N)\n",
    "        Q.simulate_until_max_time(60)\n",
    "        recs = Q.get_all_records()\n",
    "        recs_df = pd.DataFrame(recs)\n",
    "        overall_wait = recs_df.groupby('id_number')['waiting_time'].sum().mean()\n",
    "        overall_waits.append(overall_wait)\n",
    "\n",
    "    return sum(overall_waits) / len(overall_waits)"
   ]
  },
  {
   "cell_type": "code",
   "execution_count": 40,
   "id": "1e2be00c-a0ee-4e0e-a572-3b96bc16ddb9",
   "metadata": {},
   "outputs": [
    {
     "data": {
      "text/plain": [
       "1.0024151737247917"
      ]
     },
     "execution_count": 40,
     "metadata": {},
     "output_type": "execute_result"
    }
   ],
   "source": [
    "get_overall_average_wait(1, 2, 2)"
   ]
  },
  {
   "cell_type": "code",
   "execution_count": 41,
   "id": "ac44462c-c854-4ec1-92ab-408bcd339d07",
   "metadata": {},
   "outputs": [
    {
     "data": {
      "text/plain": [
       "0.2871316768290841"
      ]
     },
     "execution_count": 41,
     "metadata": {},
     "output_type": "execute_result"
    }
   ],
   "source": [
    "get_overall_average_wait(2, 2, 2)"
   ]
  },
  {
   "cell_type": "code",
   "execution_count": 42,
   "id": "ddd447d2-b228-45c5-ac1a-8f5980000d9d",
   "metadata": {},
   "outputs": [
    {
     "data": {
      "text/plain": [
       "0.7918299534589732"
      ]
     },
     "execution_count": 42,
     "metadata": {},
     "output_type": "execute_result"
    }
   ],
   "source": [
    "get_overall_average_wait(1, 3, 2)"
   ]
  },
  {
   "cell_type": "code",
   "execution_count": 43,
   "id": "533a8ccc-9640-41af-afb8-fd0688cfe5f2",
   "metadata": {},
   "outputs": [
    {
     "data": {
      "text/plain": [
       "0.7596138393634586"
      ]
     },
     "execution_count": 43,
     "metadata": {},
     "output_type": "execute_result"
    }
   ],
   "source": [
    "get_overall_average_wait(1, 2, 3)"
   ]
  },
  {
   "cell_type": "markdown",
   "id": "3fed174f-1b1a-4c8e-8062-500e43123c2f",
   "metadata": {},
   "source": [
    "# Supplementary task 2"
   ]
  },
  {
   "cell_type": "code",
   "execution_count": 44,
   "id": "f3b0b362-dbab-416e-b5bf-a4810782cb8f",
   "metadata": {},
   "outputs": [],
   "source": [
    "def is_in_circle(x, y):\n",
    "    return ((x - 0.5) ** 2) + ((y - 0.5) ** 2) <= 0.25"
   ]
  },
  {
   "cell_type": "code",
   "execution_count": 45,
   "id": "448e6904-4666-4088-8392-3fe54a92e2b3",
   "metadata": {},
   "outputs": [],
   "source": [
    "n_points = 1000000\n",
    "random.seed(0)\n",
    "random_points = [(random.uniform(0, 1), random.uniform(0, 1)) for point in range(n_points)]"
   ]
  },
  {
   "cell_type": "code",
   "execution_count": 46,
   "id": "57dc524e-9755-40cf-89f8-6be754f6e7d2",
   "metadata": {},
   "outputs": [],
   "source": [
    "in_circle = [is_in_circle(x, y) for x, y in random_points]"
   ]
  },
  {
   "cell_type": "code",
   "execution_count": 47,
   "id": "88c9b754-43ac-42e6-ba18-001ac22a83a6",
   "metadata": {},
   "outputs": [
    {
     "data": {
      "text/plain": [
       "3.141132"
      ]
     },
     "execution_count": 47,
     "metadata": {},
     "output_type": "execute_result"
    }
   ],
   "source": [
    "estimated_area_of_circle = sum(in_circle) / n_points\n",
    "estimated_value_of_pi = estimated_area_of_circle * 4\n",
    "estimated_value_of_pi"
   ]
  },
  {
   "cell_type": "markdown",
   "id": "a2818287-437d-48c1-a885-38e2f7b3f4df",
   "metadata": {},
   "source": [
    "# Supplementary task 3"
   ]
  },
  {
   "cell_type": "code",
   "execution_count": 48,
   "id": "fb153146-f0fd-4eff-9f0a-b5e401f6c81e",
   "metadata": {},
   "outputs": [],
   "source": [
    "def take_step(x, y):\n",
    "    direction = random.choice(['Left', 'Straight', 'Right'])\n",
    "    if direction == 'Left':\n",
    "        return x - 1, y\n",
    "    if direction == 'Straight':\n",
    "        return x, y + 1\n",
    "    if direction == 'Right':\n",
    "        return x + 1, y"
   ]
  },
  {
   "cell_type": "code",
   "execution_count": 49,
   "id": "bb704aba-1c7c-4776-b12b-becd418c2174",
   "metadata": {},
   "outputs": [],
   "source": [
    "def coords_after_n_steps(n, x_start, y_start):\n",
    "    x, y = x_start, y_start\n",
    "    for steps in range(n):\n",
    "        x, y = take_step(x, y)\n",
    "    return x, y"
   ]
  },
  {
   "cell_type": "code",
   "execution_count": 50,
   "id": "d20cf357-205c-45be-9dfa-f845fae267d3",
   "metadata": {},
   "outputs": [],
   "source": [
    "def distance_after_n_steps(n, x_start, y_start):\n",
    "    x, y = coords_after_n_steps(n, x_start, y_start)\n",
    "    distance = ((x - x_start) ** 2 + (y - y_start) ** 2) ** 0.5\n",
    "    return distance"
   ]
  },
  {
   "cell_type": "code",
   "execution_count": 51,
   "id": "09684697-e259-4a5c-93c2-7de1b8855ebe",
   "metadata": {},
   "outputs": [],
   "source": [
    "random.seed(0)\n",
    "distances = [distance_after_n_steps(100, 0, 0) for trial in range(100)]"
   ]
  },
  {
   "cell_type": "code",
   "execution_count": 52,
   "id": "b7f94e22-a63d-4226-9a64-3cbacdc16512",
   "metadata": {},
   "outputs": [
    {
     "data": {
      "text/plain": [
       "34.41934645622376"
      ]
     },
     "execution_count": 52,
     "metadata": {},
     "output_type": "execute_result"
    }
   ],
   "source": [
    "average_distance = sum(distances) / len(distances)\n",
    "average_distance"
   ]
  },
  {
   "cell_type": "code",
   "execution_count": 53,
   "id": "ce5a7347-0cf7-4951-890e-e17db60daf29",
   "metadata": {},
   "outputs": [
    {
     "data": {
      "text/plain": [
       "23.968589526436503"
      ]
     },
     "execution_count": 53,
     "metadata": {},
     "output_type": "execute_result"
    }
   ],
   "source": [
    "variance_distances = sum([(d - average_distance) ** 2 for d in distances]) / len(distances)\n",
    "variance_distances"
   ]
  },
  {
   "cell_type": "markdown",
   "id": "8e51ecd1-2f05-456f-9f10-4ae0efe49f28",
   "metadata": {},
   "source": [
    "# Supplementary task 4"
   ]
  },
  {
   "cell_type": "code",
   "execution_count": null,
   "id": "0a58ebca-ddb4-4ee8-92a2-d970ea24c2d2",
   "metadata": {},
   "outputs": [],
   "source": []
  },
  {
   "cell_type": "code",
   "execution_count": 54,
   "id": "53e77501-25ca-4694-918b-d1c35211613a",
   "metadata": {},
   "outputs": [],
   "source": [
    "def get_proportion_over_30m(c_inspection, c_repair):\n",
    "    N = ciw.create_network(\n",
    "        arrival_distributions=[ciw.dists.Exponential(1/4), None],\n",
    "        service_distributions=[ciw.dists.Exponential(1/3), ciw.dists.Exponential(1/6)],\n",
    "        number_of_servers=[c_inspection, c_repair],\n",
    "        routing=[[0.0, 0.8], [0.0, 0.0]]\n",
    "    )\n",
    "    \n",
    "    proportions_over_30m = []\n",
    "    for trial in range(20):\n",
    "        ciw.seed(trial)\n",
    "        Q = ciw.Simulation(N)\n",
    "        Q.simulate_until_max_time(24 * 60)\n",
    "        recs = Q.get_all_records()\n",
    "        recs_df = pd.DataFrame(recs)\n",
    "        recs_df['time_at_node'] = recs_df['exit_date'] - recs_df['arrival_date']\n",
    "        proportion_over_30_mins = (recs_df.groupby('id_number')['time_at_node'].sum() > 30).mean()\n",
    "        proportions_over_30m.append(proportion_over_30_mins)\n",
    "    \n",
    "    return sum(proportions_over_30m) / len(proportions_over_30m)"
   ]
  },
  {
   "cell_type": "code",
   "execution_count": 55,
   "id": "89a1829d-42df-45af-b877-b49e60cdc13a",
   "metadata": {},
   "outputs": [
    {
     "data": {
      "text/plain": [
       "0.21981877898558388"
      ]
     },
     "execution_count": 55,
     "metadata": {},
     "output_type": "execute_result"
    }
   ],
   "source": [
    "get_proportion_over_30m(c_inspection=1, c_repair=2)"
   ]
  },
  {
   "cell_type": "code",
   "execution_count": 56,
   "id": "dd8e5804-e5c3-4431-9ac1-570dd4b95549",
   "metadata": {},
   "outputs": [
    {
     "data": {
      "text/plain": [
       "0.050478744365214934"
      ]
     },
     "execution_count": 56,
     "metadata": {},
     "output_type": "execute_result"
    }
   ],
   "source": [
    "get_proportion_over_30m(c_inspection=2, c_repair=2)"
   ]
  },
  {
   "cell_type": "code",
   "execution_count": 57,
   "id": "2771b5e3-0f69-44d5-9d41-92df90bce0b6",
   "metadata": {},
   "outputs": [
    {
     "data": {
      "text/plain": [
       "0.13241643404778866"
      ]
     },
     "execution_count": 57,
     "metadata": {},
     "output_type": "execute_result"
    }
   ],
   "source": [
    "get_proportion_over_30m(c_inspection=1, c_repair=3)"
   ]
  },
  {
   "cell_type": "markdown",
   "id": "2f2cfa78-9d3f-4e1b-b6ba-176cfd364104",
   "metadata": {},
   "source": [
    "# Supplementary task 5"
   ]
  },
  {
   "cell_type": "code",
   "execution_count": 58,
   "id": "d68c4647-4a9f-4bec-8117-fd8eb58f2034",
   "metadata": {},
   "outputs": [],
   "source": [
    "N = ciw.create_network(\n",
    "    arrival_distributions=[ciw.dists.Deterministic(value=4.0),\n",
    "                           None,\n",
    "                           None],\n",
    "    service_distributions=[ciw.dists.Uniform(lower=3, upper=5),\n",
    "                           ciw.dists.Uniform(lower=3, upper=5),\n",
    "                           ciw.dists.Uniform(lower=3, upper=5)],\n",
    "    routing=[[0.0, 1.0, 0.0],\n",
    "             [0.0, 0.0, 1.0],\n",
    "             [0.0, 0.0, 0.0]],\n",
    "    number_of_servers=[1, 1, 1],\n",
    "    queue_capacities=[3, 3, 3]\n",
    ")"
   ]
  },
  {
   "cell_type": "code",
   "execution_count": 59,
   "id": "b7a897aa-f004-4666-8fbb-5bef71810d6d",
   "metadata": {},
   "outputs": [],
   "source": [
    "broken_stools = []\n",
    "for trial in range(8):\n",
    "    ciw.seed(trial)\n",
    "    Q = ciw.Simulation(N)\n",
    "    Q.simulate_until_max_time((60 * 60) + 600)\n",
    "    recs = Q.get_all_records()\n",
    "    num_broken = len([r for r in recs if r.record_type==\"rejection\" if r.arrival_date > 600])\n",
    "    broken_stools.append(num_broken)"
   ]
  },
  {
   "cell_type": "code",
   "execution_count": 60,
   "id": "a12189ed-e6db-4586-9c12-55ec0810af22",
   "metadata": {},
   "outputs": [
    {
     "data": {
      "text/plain": [
       "7.25"
      ]
     },
     "execution_count": 60,
     "metadata": {},
     "output_type": "execute_result"
    }
   ],
   "source": [
    "average_broken_stools_per_hour = sum(broken_stools) / len(broken_stools)\n",
    "average_broken_stools_per_hour"
   ]
  },
  {
   "cell_type": "code",
   "execution_count": 61,
   "id": "01d57a3b-83eb-4fa2-9250-1899f84c2506",
   "metadata": {},
   "outputs": [
    {
     "data": {
      "text/plain": [
       "72.5"
      ]
     },
     "execution_count": 61,
     "metadata": {},
     "output_type": "execute_result"
    }
   ],
   "source": [
    "cost_per_hour = average_broken_stools_per_hour * 10\n",
    "cost_per_hour"
   ]
  },
  {
   "cell_type": "code",
   "execution_count": null,
   "id": "8c9512de-28eb-4efe-a669-37396fb757f8",
   "metadata": {},
   "outputs": [],
   "source": []
  }
 ],
 "metadata": {
  "kernelspec": {
   "display_name": "Python 3 (ipykernel)",
   "language": "python",
   "name": "python3"
  },
  "language_info": {
   "codemirror_mode": {
    "name": "ipython",
    "version": 3
   },
   "file_extension": ".py",
   "mimetype": "text/x-python",
   "name": "python",
   "nbconvert_exporter": "python",
   "pygments_lexer": "ipython3",
   "version": "3.10.6"
  }
 },
 "nbformat": 4,
 "nbformat_minor": 5
}
